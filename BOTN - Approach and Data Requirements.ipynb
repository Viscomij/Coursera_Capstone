{
 "cells": [
  {
   "cell_type": "markdown",
   "metadata": {},
   "source": [
    "# Using Foursquare Location Data to Determine the Optimal Neighborhood for a BBQ Joint\n",
    "### Capstone Project - The Battle of Neighborhoods | Author: Jackson Viscomi\n",
    "___"
   ]
  },
  {
   "cell_type": "markdown",
   "metadata": {},
   "source": [
    "## 1. Introduction/Business Problem"
   ]
  },
  {
   "cell_type": "markdown",
   "metadata": {},
   "source": [
    "When opening a new restaurant, the first two aspects that come into consideration are the **location** and the **competition**. \n",
    "\n",
    "A perspective restaurant owner wants their restaurant to be located in a area known for its food and bar scene, as that is where perspective customers will be located. However, they also want to make sure that they will not have too much competition between restaurants of the same category. This brings up the common problem of *\"Where can I locate my restaurant so that it will attract the most amount of customers with the least amount of competition?\"* \n",
    "\n",
    "Finding the answer to this problem difficult, however, with the help of data provided to us by Foursquare, we can use analytical machine learning to return a **list of optimal neighborhoods** with a **thriving restaurant scene** and **little competition**."
   ]
  },
  {
   "cell_type": "markdown",
   "metadata": {},
   "source": [
    "## 2. Analytical Approach and Data Requirements"
   ]
  },
  {
   "cell_type": "markdown",
   "metadata": {},
   "source": [
    "Our stakeholders are going to be using this data to determine the best neighborhoods in **Manhattan, New York** to open a **BBQ joint**. Therefore, our approach/requirements will consist of the following:\n",
    "\n",
    "1. Obtaining a dataframe of Manhattan Neighborhoods and their corresponding latitude and longitude (obtained from the https://cocl.us/new_york_dataset JSON dataset)\n",
    "![alt text](https://i.ibb.co/BPkPXDL/neighborhoods-long-lat.png)\n",
    "2. Get foursquare data on popular venues in manhattan (from a API request of: https://api.foursquare.com/v2/venues/exlpore?&client_id={}&client_secret={}&v={}&ll={},{}&radius={}&limit={}')\n",
    "2. Obtain the top 100 venues from each neighborhood by referencing the latitudes and longitudes from the previous dataframe \n",
    "3. Use one-hot encoding to produce a dataframe with a binary categorization of every venue. \n",
    "4. Group the dataframe by neighborhood, take averages of each binary value\n",
    "![alt text](https://i.ibb.co/DRMd4VT/onehotencoding-average-all.png)\n",
    "5. Sum up binary averages for all venues with restaurant key (i.e. \"Resturant\", \"Bistro\", \"Pub\" etc.) in each neighborhood, append to new datafreame.\n",
    "6. Also append average count for \"BBQ Joints\" in each neighborhood to dataframe.\n",
    "7. Use k-means clustering to divide neighborhoods into k-groups\n",
    "8. Select group with highest restaurant sum, lowest \"BBQ Joint\" average"
   ]
  },
  {
   "cell_type": "code",
   "execution_count": null,
   "metadata": {},
   "outputs": [],
   "source": []
  }
 ],
 "metadata": {
  "kernelspec": {
   "display_name": "Python 3",
   "language": "python",
   "name": "python3"
  },
  "language_info": {
   "codemirror_mode": {
    "name": "ipython",
    "version": 3
   },
   "file_extension": ".py",
   "mimetype": "text/x-python",
   "name": "python",
   "nbconvert_exporter": "python",
   "pygments_lexer": "ipython3",
   "version": "3.6.8"
  }
 },
 "nbformat": 4,
 "nbformat_minor": 2
}
