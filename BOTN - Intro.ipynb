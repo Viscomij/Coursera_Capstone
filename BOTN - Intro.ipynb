{
 "cells": [
  {
   "cell_type": "markdown",
   "metadata": {},
   "source": [
    "# Using Foursquare Location Data to Determine the Optimal Neighborhood for a BBQ Joint\n",
    "### Capstone Project - The Battle of Neighborhoods | Author: Jackson Viscomi\n",
    "___"
   ]
  },
  {
   "cell_type": "markdown",
   "metadata": {},
   "source": [
    "## 1. Introduction/Business Problem"
   ]
  },
  {
   "cell_type": "markdown",
   "metadata": {},
   "source": [
    "When opening a new restaurant, the first two aspects that come into consideration are the **location** and the **competition**. \n",
    "\n",
    "A perspective restaurant owner wants their restaurant to be located in a area known for its food and bar scene, as that is where perspective customers will be located. However, they also want to make sure that they will not have too much competition between restaurants of the same category. This brings up the common problem of *\"Where can I locate my restaurant so that it will attract the most amount of customers with the least amount of competition?\"* \n",
    "\n",
    "Finding the answer to this problem difficult, however, with the help of data provided to us by Foursquare, we can use analytical machine learning to return a **list of optimal neighborhoods** with a **thriving restaurant scene** and **little competition**."
   ]
  },
  {
   "cell_type": "code",
   "execution_count": null,
   "metadata": {},
   "outputs": [],
   "source": []
  }
 ],
 "metadata": {
  "kernelspec": {
   "display_name": "Python 3",
   "language": "python",
   "name": "python3"
  },
  "language_info": {
   "codemirror_mode": {
    "name": "ipython",
    "version": 3
   },
   "file_extension": ".py",
   "mimetype": "text/x-python",
   "name": "python",
   "nbconvert_exporter": "python",
   "pygments_lexer": "ipython3",
   "version": "3.6.8"
  }
 },
 "nbformat": 4,
 "nbformat_minor": 2
}
